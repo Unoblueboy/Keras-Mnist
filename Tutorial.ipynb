{
 "cells": [
  {
   "cell_type": "markdown",
   "metadata": {},
   "source": [
    "# Tutorial\n",
    "Here is a notebook containing my first experiences with Keras, the tutorial I used can be found [here](https://elitedatascience.com/keras-tutorial-deep-learning-in-python), and a general course on deep learning can be found [here](https://cs231n.github.io/).\n",
    "This Notebook will contain general steps that I can use in future projects\n",
    "## Step 1: Importing Modules\n",
    "First we are going to import numpy (we set the seed for the sake of reproducibility)"
   ]
  },
  {
   "cell_type": "code",
   "execution_count": 1,
   "metadata": {},
   "outputs": [],
   "source": [
    "import numpy as np\n",
    "np.random.seed(123)"
   ]
  },
  {
   "cell_type": "markdown",
   "metadata": {},
   "source": [
    "Next we are going to import our model (in this case we are using a Sequential model (i.e. a model that is just a stack of layers))"
   ]
  },
  {
   "cell_type": "code",
   "execution_count": 2,
   "metadata": {},
   "outputs": [],
   "source": [
    "from keras.models import Sequential"
   ]
  },
  {
   "cell_type": "markdown",
   "metadata": {},
   "source": [
    "Now we are going to import all of the models that we are going to use for this model"
   ]
  },
  {
   "cell_type": "code",
   "execution_count": 3,
   "metadata": {},
   "outputs": [],
   "source": [
    "from keras.layers import Dense, SpatialDropout2D, Dropout, Activation, Flatten # Common in all Neural Networks\n",
    "from keras.layers import Convolution2D, MaxPooling2D # Convolutional layers used for efficient training on images"
   ]
  },
  {
   "cell_type": "markdown",
   "metadata": {},
   "source": [
    "Finally we will import some utility functions from Keras"
   ]
  },
  {
   "cell_type": "code",
   "execution_count": 4,
   "metadata": {},
   "outputs": [],
   "source": [
    "from keras.utils import np_utils\n",
    "from keras.metrics import AUC"
   ]
  },
  {
   "cell_type": "markdown",
   "metadata": {},
   "source": [
    "## Step 2: Load (Image) data\n",
    "We will now import our dataset, we are using the MNIST dataset (provided as a part of keras)"
   ]
  },
  {
   "cell_type": "code",
   "execution_count": 5,
   "metadata": {},
   "outputs": [],
   "source": [
    "from keras.datasets import mnist\n",
    " \n",
    "# Load pre-shuffled MNIST data into train and test sets\n",
    "(X_train, y_train), (X_test, y_test) = mnist.load_data()"
   ]
  },
  {
   "cell_type": "code",
   "execution_count": 6,
   "metadata": {},
   "outputs": [
    {
     "name": "stdout",
     "output_type": "stream",
     "text": [
      "(60000, 28, 28)\n"
     ]
    }
   ],
   "source": [
    "print(X_train.shape)"
   ]
  },
  {
   "cell_type": "code",
   "execution_count": 7,
   "metadata": {},
   "outputs": [
    {
     "data": {
      "text/plain": [
       "<matplotlib.image.AxesImage at 0x1f582060788>"
      ]
     },
     "execution_count": 7,
     "metadata": {},
     "output_type": "execute_result"
    },
    {
     "data": {
      "image/png": "[encoded data removed]",
      "text/plain": [
       "<Figure size 432x288 with 1 Axes>"
      ]
     },
     "metadata": {
      "needs_background": "light"
     },
     "output_type": "display_data"
    }
   ],
   "source": [
    "from matplotlib import pyplot as plt\n",
    "plt.imshow(X_train[0])"
   ]
  },
  {
   "cell_type": "markdown",
   "metadata": {},
   "source": [
    "## Step 3: Preprocessing data for KERAS\n",
    "\n",
    "### Preprocessing inputs\n",
    "\n",
    "We will want to later use convolution as the first layer of our model, so we need to reshape our data into a form that can be input into the convolution. To do this we must put our data into the shape\n",
    "\n",
    "(# of images, width, height, image depth)"
   ]
  },
  {
   "cell_type": "code",
   "execution_count": 8,
   "metadata": {},
   "outputs": [],
   "source": [
    "X_train = X_train.reshape(X_train.shape[0], 28, 28, 1)\n",
    "X_test = X_test.reshape(X_test.shape[0], 28, 28, 1)"
   ]
  },
  {
   "cell_type": "markdown",
   "metadata": {},
   "source": [
    "We can easily check the dimension of the input shape by printing its shape"
   ]
  },
  {
   "cell_type": "code",
   "execution_count": 9,
   "metadata": {},
   "outputs": [
    {
     "name": "stdout",
     "output_type": "stream",
     "text": [
      "(60000, 28, 28, 1)\n"
     ]
    }
   ],
   "source": [
    "print(X_train.shape)"
   ]
  },
  {
   "cell_type": "markdown",
   "metadata": {},
   "source": [
    "Finally we're going to normalise all the data so that instead of integers in \\[0, 255\\], they are floats in \\[0, 1\\]"
   ]
  },
  {
   "cell_type": "code",
   "execution_count": 10,
   "metadata": {},
   "outputs": [],
   "source": [
    "X_train = X_train.astype('float32')\n",
    "X_test = X_test.astype('float32')\n",
    "X_train /= 255\n",
    "X_test /= 255"
   ]
  },
  {
   "cell_type": "markdown",
   "metadata": {},
   "source": [
    "### Preprocessing Class Labels\n",
    "\n",
    "Now we are are going to look at the responses, lets look at the shape of our data"
   ]
  },
  {
   "cell_type": "code",
   "execution_count": 11,
   "metadata": {},
   "outputs": [
    {
     "name": "stdout",
     "output_type": "stream",
     "text": [
      "(60000,)\n"
     ]
    }
   ],
   "source": [
    "print(y_train.shape)"
   ]
  },
  {
   "cell_type": "markdown",
   "metadata": {},
   "source": [
    "Lets look at the format of this data"
   ]
  },
  {
   "cell_type": "code",
   "execution_count": 12,
   "metadata": {},
   "outputs": [
    {
     "name": "stdout",
     "output_type": "stream",
     "text": [
      "[5 0 4 1 9 2 1 3 1 4]\n"
     ]
    }
   ],
   "source": [
    "print(y_train[:10])"
   ]
  },
  {
   "cell_type": "markdown",
   "metadata": {},
   "source": [
    "We see that the data isn't in the required form, i.e. each element should be a binary vector with length corresponding to number of categories. To get it into this form we will now use the utility function provided by keras `np_utils.to_categorical`,"
   ]
  },
  {
   "cell_type": "code",
   "execution_count": 13,
   "metadata": {},
   "outputs": [],
   "source": [
    "Y_train = np_utils.to_categorical(y_train, 10)\n",
    "Y_test = np_utils.to_categorical(y_test, 10)"
   ]
  },
  {
   "cell_type": "markdown",
   "metadata": {},
   "source": [
    "We can look at the new shape of this data to see"
   ]
  },
  {
   "cell_type": "code",
   "execution_count": 14,
   "metadata": {},
   "outputs": [
    {
     "name": "stdout",
     "output_type": "stream",
     "text": [
      "(60000, 10)\n"
     ]
    }
   ],
   "source": [
    "print(Y_train.shape)"
   ]
  },
  {
   "cell_type": "markdown",
   "metadata": {},
   "source": [
    "and looking at the first 10 again we see that it is now in the requisite form"
   ]
  },
  {
   "cell_type": "code",
   "execution_count": 15,
   "metadata": {},
   "outputs": [
    {
     "name": "stdout",
     "output_type": "stream",
     "text": [
      "[[0. 0. 0. 0. 0. 1. 0. 0. 0. 0.]\n",
      " [1. 0. 0. 0. 0. 0. 0. 0. 0. 0.]\n",
      " [0. 0. 0. 0. 1. 0. 0. 0. 0. 0.]\n",
      " [0. 1. 0. 0. 0. 0. 0. 0. 0. 0.]\n",
      " [0. 0. 0. 0. 0. 0. 0. 0. 0. 1.]\n",
      " [0. 0. 1. 0. 0. 0. 0. 0. 0. 0.]\n",
      " [0. 1. 0. 0. 0. 0. 0. 0. 0. 0.]\n",
      " [0. 0. 0. 1. 0. 0. 0. 0. 0. 0.]\n",
      " [0. 1. 0. 0. 0. 0. 0. 0. 0. 0.]\n",
      " [0. 0. 0. 0. 1. 0. 0. 0. 0. 0.]]\n"
     ]
    }
   ],
   "source": [
    "print(Y_train[:10,:])"
   ]
  },
  {
   "cell_type": "markdown",
   "metadata": {},
   "source": [
    "## Step 4: Define Model Architecture\n",
    "\n",
    "We will now define the model architecture. In a general project this will be the step that will take the longest, but as this is a tutorial, we already have one which are going to implement, this model will be a [sequential model](https://keras.io/guides/sequential_model/). (This model is in fact an example of a ConvNet architecture, discussed [here](https://cs231n.github.io/convolutional-networks)."
   ]
  },
  {
   "cell_type": "code",
   "execution_count": 16,
   "metadata": {},
   "outputs": [],
   "source": [
    "model = Sequential()"
   ]
  },
  {
   "cell_type": "markdown",
   "metadata": {},
   "source": [
    "The first layer of our model will be a convolution layer, which we add below"
   ]
  },
  {
   "cell_type": "code",
   "execution_count": 17,
   "metadata": {},
   "outputs": [],
   "source": [
    "model.add(Convolution2D(32, (3, 3), activation='relu', input_shape=(28,28,1)))"
   ]
  },
  {
   "cell_type": "markdown",
   "metadata": {},
   "source": [
    "To explain all of the parameters:\n",
    " - `input_shape` tells the layer the shape of a single sample\n",
    " - `activation` tells us the activation function\n",
    " - `32` represents the number of filters outputted\n",
    " - `(3, 3)` represents the size of the kernel used\n",
    "\n",
    "We can check the output shape of the model by doing the following"
   ]
  },
  {
   "cell_type": "code",
   "execution_count": 18,
   "metadata": {},
   "outputs": [
    {
     "name": "stdout",
     "output_type": "stream",
     "text": [
      "(None, 26, 26, 32)\n"
     ]
    }
   ],
   "source": [
    "print(model.output_shape)"
   ]
  },
  {
   "cell_type": "markdown",
   "metadata": {},
   "source": [
    "We can now add more layers to the model, using\n",
    " - `MaxPooling2D`\n",
    "  - This will be used to reduce the dimension of our image by choosing max pixel within the pool size\n",
    " - `SpatialDropout2D`\n",
    "  - This is a layer used for regularisation in order to make sure the model generalises decently (We could just use a regular `Dropout` layer, but `SpatialDropout2D` takes advantage of the fact we are using spatial data) (A list of other regularisation layers can be found [here](https://keras.io/api/layers/regularization_layers/) and list of layer weight regularisation methods can be found [here](https://keras.io/api/layers/regularizers/)"
   ]
  },
  {
   "cell_type": "code",
   "execution_count": 19,
   "metadata": {},
   "outputs": [
    {
     "name": "stdout",
     "output_type": "stream",
     "text": [
      "(None, 12, 12, 32)\n"
     ]
    }
   ],
   "source": [
    "model.add(Convolution2D(32, (3, 3), activation='relu'))\n",
    "model.add(MaxPooling2D(pool_size=(2,2)))\n",
    "model.add(SpatialDropout2D(0.25, data_format='channels_last'))\n",
    "print(model.output_shape)"
   ]
  },
  {
   "cell_type": "markdown",
   "metadata": {},
   "source": [
    "We can see that the size of the output has been significantly reduced (mainly thanks to `MaxPooling2D`), so we will now go to a flattened perspective on the data to finish off the ConvNet, again using a `Dropout` layer as a means of regularisation."
   ]
  },
  {
   "cell_type": "code",
   "execution_count": 20,
   "metadata": {},
   "outputs": [],
   "source": [
    "model.add(Flatten())\n",
    "model.add(Dense(128, activation='relu'))\n",
    "model.add(Dropout(0.9))\n",
    "model.add(Dense(10, activation='softmax'))"
   ]
  },
  {
   "cell_type": "markdown",
   "metadata": {},
   "source": [
    "Note that the activation function `softmax` is used specifically for the case where we want to classify an object into one of $n \\geq 2$ categories, so the $i^\\text{th}$ output represents the probability that the input is a member of the $i^\\text{th}$ category. (A list of activation functions used in keras can be found [here](https://keras.io/api/layers/activations/))\n",
    "## Step 5: Compile Model\n",
    "\n",
    "Here is where we tell our model what it is trying to opimise (the loss function we are going to use), how to do it (i.e. the optimiser to use), and metrics we may want to measure. Within the documentation many [loss functions](https://keras.io/api/losses/), [optimisers](https://keras.io/api/optimizers/), and [metrics](https://keras.io/api/metrics/) are given."
   ]
  },
  {
   "cell_type": "code",
   "execution_count": 21,
   "metadata": {},
   "outputs": [],
   "source": [
    "model.compile(loss='categorical_crossentropy',\n",
    "              optimizer='adam',\n",
    "              metrics=['accuracy', AUC(multi_label = False)])"
   ]
  },
  {
   "cell_type": "markdown",
   "metadata": {},
   "source": [
    "## Step 6: Fit Model on training\n",
    "\n",
    "Training the model is simple once the model is set up, we just need to supply the data as well as some extra parameters:\n",
    " - `batch_size` says how many samples to use for each gradient calculation\n",
    " - `epochs` says the number of times to go through the training data provided\n",
    " - `verbose` says whether we want the information on the progress of the training to be printed or not\n",
    "You can find out more about training Models in Keras [here](https://keras.io/api/models/model_training_apis/#fit-method). Callbacks can be used during training for a variety of things, as shown [here](https://keras.io/api/callbacks/)."
   ]
  },
  {
   "cell_type": "code",
   "execution_count": 22,
   "metadata": {},
   "outputs": [
    {
     "name": "stdout",
     "output_type": "stream",
     "text": [
      "Epoch 1/10\n",
      "3750/3750 [==============================] - 8s 2ms/step - loss: 1.0023 - accuracy: 0.6161 - auc: 0.9427\n",
      "Epoch 2/10\n",
      "3750/3750 [==============================] - 8s 2ms/step - loss: 0.7106 - accuracy: 0.7151 - auc: 0.9708\n",
      "Epoch 3/10\n",
      "3750/3750 [==============================] - 8s 2ms/step - loss: 0.6540 - accuracy: 0.7332 - auc: 0.9750\n",
      "Epoch 4/10\n",
      "3750/3750 [==============================] - 8s 2ms/step - loss: 0.6093 - accuracy: 0.7482 - auc: 0.9782\n",
      "Epoch 5/10\n",
      "3750/3750 [==============================] - 9s 2ms/step - loss: 0.5942 - accuracy: 0.7578 - auc: 0.9792\n",
      "Epoch 6/10\n",
      "3750/3750 [==============================] - 8s 2ms/step - loss: 0.5757 - accuracy: 0.7632 - auc: 0.9803\n",
      "Epoch 7/10\n",
      "3750/3750 [==============================] - 9s 2ms/step - loss: 0.5534 - accuracy: 0.7738 - auc: 0.9817\n",
      "Epoch 8/10\n",
      "3750/3750 [==============================] - 8s 2ms/step - loss: 0.5370 - accuracy: 0.7815 - auc: 0.9828\n",
      "Epoch 9/10\n",
      "3750/3750 [==============================] - 8s 2ms/step - loss: 0.5228 - accuracy: 0.7911 - auc: 0.9837\n",
      "Epoch 10/10\n",
      "3750/3750 [==============================] - 9s 2ms/step - loss: 0.5166 - accuracy: 0.7945 - auc: 0.9839\n"
     ]
    },
    {
     "data": {
      "text/plain": [
       "<tensorflow.python.keras.callbacks.History at 0x1f595969608>"
      ]
     },
     "execution_count": 22,
     "metadata": {},
     "output_type": "execute_result"
    }
   ],
   "source": [
    "model.fit(X_train, Y_train, \n",
    "          batch_size=16, epochs=10, verbose=1)"
   ]
  },
  {
   "cell_type": "markdown",
   "metadata": {},
   "source": [
    "## Step 7: Evaluate Model\n",
    "\n",
    "Here is where we look at the metrics and decide whether or not the model we have created is good enough, documentation can be found [here](https://keras.io/api/models/model_training_apis/#evaluate-method).\n",
    "\n",
    "The value for loss indicates the value of the loss function calculated for the test data, and accuracy represents the (approximate) probability that the model will predict the category the input comes from accurately.\n",
    "\n",
    "For an explanation of AUC (i.e a metric used to measure how well a model can differentiate between classes), look [here](https://towardsdatascience.com/understanding-auc-roc-curve-68b2303cc9c5), [here](https://machinelearningmastery.com/roc-curves-and-precision-recall-curves-for-classification-in-python/), and [here](https://en.wikipedia.org/wiki/Receiver_operating_characteristic). For a brief explanation, we basically plot FPR (False Positive Rate) against TPR (True Positive Rate and find the AUC (Area Under Curve). To plot FPR against TPR, we consider what would occur if we set $p$ as our threshold probability, i.e. if probability in $i^\\text{th}$ category $<p$ then assume input not in $i^\\text{th}$ else, it is in the $i^\\text{th}$ category. THE AUC can be intepretted as \n",
    "$$ \\mathbb{P}\\left(X_1 > X_0\\right) $$\n",
    "where $X_1$ is the score for a positive piece of data and $X_0$ is the score for a negative piece (proof shown [here](https://en.wikipedia.org/wiki/Receiver_operating_characteristic#Further_interpretations))."
   ]
  },
  {
   "cell_type": "code",
   "execution_count": 23,
   "metadata": {},
   "outputs": [
    {
     "name": "stdout",
     "output_type": "stream",
     "text": [
      "Loss: 0.05212957039475441\n",
      "Accuracy: 0.9851999878883362\n",
      "AUC: 0.9991110563278198\n"
     ]
    }
   ],
   "source": [
    "score = model.evaluate(X_test, Y_test, verbose=0)\n",
    "print(\"Loss: \" + str(score[0]))\n",
    "print(\"Accuracy: \" + str(score[1]))\n",
    "print(\"AUC: \" + str(score[2]))"
   ]
  },
  {
   "cell_type": "markdown",
   "metadata": {},
   "source": [
    "## Outside the Box\n",
    "\n",
    "Now we're outside the scope of the tutorial and I'm gonna run a bit wild, we're going to explore one of the utility functions, specifically `plot_model`, which can be found [here](https://keras.io/api/utils/model_plotting_utils/#plot_model-function)."
   ]
  },
  {
   "cell_type": "code",
   "execution_count": 24,
   "metadata": {},
   "outputs": [
    {
     "data": {
      "image/png": "[encoded data removed]",
      "text/plain": [
       "<IPython.core.display.Image object>"
      ]
     },
     "execution_count": 24,
     "metadata": {},
     "output_type": "execute_result"
    }
   ],
   "source": [
    "from keras.utils import plot_model\n",
    "\n",
    "plot_model(\n",
    "    model,\n",
    "    to_file=\"model.png\",\n",
    "    show_shapes=True,\n",
    "    show_layer_names=True,\n",
    "    rankdir=\"TB\",\n",
    "    expand_nested=True,\n",
    "    dpi=96,\n",
    ")"
   ]
  },
  {
   "cell_type": "markdown",
   "metadata": {},
   "source": [
    "## Layers of the onion\n",
    "\n",
    "We're going to use the function `get_layer` (details [here](https://keras.io/api/models/model/#getlayer-method)) to try and see the filters that the model creates for the data provided.\n",
    "jk, we're going to use the method described [here](https://keras.io/getting_started/faq/#how-can-i-obtain-the-output-of-an-intermediate-layer-feature-extraction). \n",
    "\n",
    "You can run the code below as many times as you like, each time generating the filters for different inputs:"
   ]
  },
  {
   "cell_type": "code",
   "execution_count": 25,
   "metadata": {},
   "outputs": [
    {
     "name": "stdout",
     "output_type": "stream",
     "text": [
      "The number written was: 1\n"
     ]
    },
    {
     "data": {
      "text/plain": [
       "<matplotlib.image.AxesImage at 0x1f59e1a9b48>"
      ]
     },
     "execution_count": 25,
     "metadata": {},
     "output_type": "execute_result"
    },
    {
     "data": {
      "image/png": "[encoded data removed]",
      "text/plain": [
       "<Figure size 432x288 with 1 Axes>"
      ]
     },
     "metadata": {
      "needs_background": "light"
     },
     "output_type": "display_data"
    },
    {
     "data": {
      "image/png": "[encoded data removed]",
      "text/plain": [
       "<Figure size 504x432 with 1 Axes>"
      ]
     },
     "metadata": {
      "needs_background": "light"
     },
     "output_type": "display_data"
    },
    {
     "data": {
      "image/png": "[encoded data removed]",
      "text/plain": [
       "<Figure size 504x432 with 1 Axes>"
      ]
     },
     "metadata": {
      "needs_background": "light"
     },
     "output_type": "display_data"
    },
    {
     "data": {
      "image/png": "[encoded data removed]",
      "text/plain": [
       "<Figure size 504x432 with 1 Axes>"
      ]
     },
     "metadata": {
      "needs_background": "light"
     },
     "output_type": "display_data"
    }
   ],
   "source": [
    "from keras import Model\n",
    "from numpy import ones, argmax\n",
    "from numpy.random import randint\n",
    "\n",
    "extractor = Model(inputs=model.inputs,\n",
    "                  outputs=[layer.output for layer in model.layers])\n",
    "\n",
    "index = randint(0,X_test.shape[0])\n",
    "print(\"The number written was: {}\".format(argmax(Y_test[index:])))\n",
    "data = X_test[index,:,:,:].reshape(1,28,28,1)\n",
    "features = extractor(data)\n",
    "\n",
    "pad = 3\n",
    "picture1 = ones(((26+2*pad)*4,(26+2*pad)*8))\n",
    "\n",
    "for i in range(4):\n",
    "    for j in range(8):\n",
    "        num = 8 * i + j\n",
    "        picture1[(i * (26 + 2 * pad) + pad): (i * (26 + 2 * pad) + 26 + pad), \n",
    "                 (j * (26 + 2 * pad) + pad): (j * (26 + 2 * pad) + 26 + pad)] = features[0].numpy()[0,:,:,num]\n",
    "\n",
    "picture2 = ones(((24+2*pad)*4,(24+2*pad)*8))\n",
    "\n",
    "for i in range(4):\n",
    "    for j in range(8):\n",
    "        num = 8 * i + j\n",
    "        picture2[(i * (24 + 2 * pad) + pad): (i * (24 + 2 *pad) + 24 + pad), \n",
    "                 (j * (24 + 2 * pad) + pad): (j * (24 + 2 *pad) + 24 + pad)] = features[1].numpy()[0,:,:,num]\n",
    "\n",
    "pad=1\n",
    "picture3 = ones(((12+2*pad)*4,(12+2*pad)*8))\n",
    "\n",
    "for i in range(4):\n",
    "    for j in range(8):\n",
    "        num = 8 * i + j\n",
    "        picture3[(i * (12 + 2 * pad) + pad): (i * (12 + 2 * pad) + 12 + pad), \n",
    "                 (j * (12 + 2 * pad) + pad): (j * (12 + 2 * pad) + 12 + pad)] = features[2].numpy()[0,:,:,num]\n",
    "        \n",
    "from matplotlib import pyplot as plt\n",
    "plt.figure()\n",
    "plt.imshow(X_test[index,:,:,:].reshape(28,28), cmap='gray')\n",
    "plt.figure(figsize=(7, 6))\n",
    "plt.imshow(picture1, cmap='gray')\n",
    "plt.figure(figsize=(7, 6))\n",
    "plt.imshow(picture2, cmap='gray')\n",
    "plt.figure(figsize=(7, 6))\n",
    "plt.imshow(picture3, cmap='gray')"
   ]
  }
 ],
 "metadata": {
  "kernelspec": {
   "display_name": "Python 3",
   "language": "python",
   "name": "python3"
  },
  "language_info": {
   "codemirror_mode": {
    "name": "ipython",
    "version": 3
   },
   "file_extension": ".py",
   "mimetype": "text/x-python",
   "name": "python",
   "nbconvert_exporter": "python",
   "pygments_lexer": "ipython3",
   "version": "3.7.6"
  }
 },
 "nbformat": 4,
 "nbformat_minor": 4
}
